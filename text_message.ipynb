{
 "cells": [
  {
   "cell_type": "markdown",
   "metadata": {},
   "source": [
    " ## Class-Work 1"
   ]
  },
  {
   "cell_type": "markdown",
   "metadata": {},
   "source": [
    "Write a script that sends you the weather prediction for the day through a Twilio text message. The message should be sheduled to 6:00 AM Daily. "
   ]
  },
  {
   "cell_type": "code",
   "execution_count": 7,
   "metadata": {},
   "outputs": [],
   "source": [
    "from twilio.rest import Client\n",
    "import os\n",
    "from bs4 import BeautifulSoup\n",
    "import requests\n",
    "import schedule"
   ]
  },
  {
   "cell_type": "code",
   "execution_count": 8,
   "metadata": {},
   "outputs": [],
   "source": [
    "Account_SID = os.environ.get('ACCOUNT_SID')\n",
    "Auth_TOKEN = os.environ.get('AUTH_TOKEN')\n",
    "my_num = os.environ.get('my_us_number')\n",
    "sms_client = Client(Account_SID, Auth_TOKEN)"
   ]
  },
  {
   "cell_type": "code",
   "execution_count": 9,
   "metadata": {},
   "outputs": [],
   "source": [
    "#Creating a function that handles web scrapping and sending the text messages \n",
    "def get_weather():\n",
    "    req_url = requests.get('https://www.accuweather.com/en/ng/ibadan/255043/weather-forecast/255043',headers={'User-Agent': 'Mozilla/5.0'})\n",
    "    soup = BeautifulSoup(req_url.text)\n",
    "    degree = soup.find_all('div',class_=\"temp\")[0].text\n",
    "    weather = soup.find_all('span',class_=\"phrase\")[0].text\n",
    "    \n",
    "    Account_SID = os.environ.get('ACCOUNT_SID')\n",
    "    Auth_TOKEN = os.environ.get('AUTH_TOKEN')\n",
    "    my_num = os.environ.get('my_us_number')\n",
    "    sms_client = Client(Account_SID, Auth_TOKEN)\n",
    "    \n",
    "    twilio_number = my_num\n",
    "    phone_number = \"+2348164965118\"\n",
    "    message_cloudy = f'Good Morning Mr Mayowa. \\nThe weather today will be {weather}. \\nThis would be at {degree}. \\nYou are advised to go out with your umbrella'\n",
    "    message_sunny = f'Good Morning Mr Mayowa. \\nThe weather today will be {weather}. \\nThis would be at {degree}. \\nEnjoy the {weather} day.'\n",
    "    if weather == 'cloudy':\n",
    "        msg_body = message_cloudy\n",
    "    else:\n",
    "        msg_body = message_sunny\n",
    "    message = sms_client.messages.create(body=msg_body, from_=twilio_number, to=phone_number)"
   ]
  },
  {
   "cell_type": "code",
   "execution_count": 10,
   "metadata": {},
   "outputs": [],
   "source": [
    "#get_weather()"
   ]
  },
  {
   "cell_type": "code",
   "execution_count": 11,
   "metadata": {},
   "outputs": [
    {
     "data": {
      "text/plain": [
       "Every 1 day at 06:00:00 do get_weather() (last run: [never], next run: 2020-08-30 06:00:00)"
      ]
     },
     "execution_count": 11,
     "metadata": {},
     "output_type": "execute_result"
    }
   ],
   "source": [
    "schedule.every().day.at('06:00').do(get_weather)"
   ]
  },
  {
   "cell_type": "code",
   "execution_count": 16,
   "metadata": {},
   "outputs": [
    {
     "name": "stdout",
     "output_type": "stream",
     "text": [
      "I interrupted the Keyboard\n"
     ]
    }
   ],
   "source": [
    "try:\n",
    "    while True:\n",
    "        schedule.run_pending()\n",
    "except KeyboardInterrupt:\n",
    "    print('I interrupted the Keyboard')\n",
    "    "
   ]
  },
  {
   "cell_type": "code",
   "execution_count": null,
   "metadata": {},
   "outputs": [],
   "source": []
  }
 ],
 "metadata": {
  "kernelspec": {
   "display_name": "Python 3",
   "language": "python",
   "name": "python3"
  },
  "language_info": {
   "codemirror_mode": {
    "name": "ipython",
    "version": 3
   },
   "file_extension": ".py",
   "mimetype": "text/x-python",
   "name": "python",
   "nbconvert_exporter": "python",
   "pygments_lexer": "ipython3",
   "version": "3.8.0"
  }
 },
 "nbformat": 4,
 "nbformat_minor": 4
}
